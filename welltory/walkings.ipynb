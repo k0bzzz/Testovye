{
 "cells": [
  {
   "cell_type": "code",
   "execution_count": 1,
   "id": "343f3d9c-1828-47f1-9410-c83a2e2a3348",
   "metadata": {},
   "outputs": [],
   "source": [
    "import pandas as pd\n",
    "import seaborn as sns\n",
    "import json\n",
    "import matplotlib.pyplot as plt\n",
    "%matplotlib inline"
   ]
  },
  {
   "cell_type": "markdown",
   "id": "91c7e419-e0a7-42a5-aed8-c9ae138d2301",
   "metadata": {},
   "source": [
    "# 1. EDA"
   ]
  },
  {
   "cell_type": "markdown",
   "id": "6a30487d-3e4e-48b0-a371-f0bd8e3dba96",
   "metadata": {},
   "source": [
    "## 1.1 Импорт и предобработка"
   ]
  },
  {
   "cell_type": "markdown",
   "id": "a7589c85-a6c2-4371-9cc7-5544238f01b7",
   "metadata": {},
   "source": [
    "Импортируем датасет, смотрим на колонки"
   ]
  },
  {
   "cell_type": "code",
   "execution_count": 2,
   "id": "56b8c3e8-ddf5-44c9-a16c-b145cccd16ec",
   "metadata": {},
   "outputs": [
    {
     "name": "stdout",
     "output_type": "stream",
     "text": [
      "<class 'pandas.core.frame.DataFrame'>\n",
      "RangeIndex: 9827 entries, 0 to 9826\n",
      "Data columns (total 4 columns):\n",
      " #   Column            Non-Null Count  Dtype \n",
      "---  ------            --------------  ----- \n",
      " 0   time_start_local  9827 non-null   object\n",
      " 1   time_end_local    9827 non-null   object\n",
      " 2   time_offset       9827 non-null   int64 \n",
      " 3   steps             9827 non-null   int64 \n",
      "dtypes: int64(2), object(2)\n",
      "memory usage: 307.2+ KB\n"
     ]
    }
   ],
   "source": [
    "df = pd.read_csv('data_for_test.csv')\n",
    "df.info()"
   ]
  },
  {
   "cell_type": "markdown",
   "id": "32df3dbb-fe4f-40a6-b5ac-b654e734bebb",
   "metadata": {},
   "source": [
    "Пропущенные значения отсутствуют. Время сразу переводим в datetime формат и приводим к UTC в соответствии с time_offset"
   ]
  },
  {
   "cell_type": "code",
   "execution_count": 3,
   "id": "d747fb2d-e3cf-4564-89e5-51d42d6eb29b",
   "metadata": {},
   "outputs": [],
   "source": [
    "for col in ['time_start_local', 'time_end_local']:\n",
    "    df[col] = pd.to_datetime(df[col])\n",
    "    df[col] = df.apply(lambda x: x[col] - pd.Timedelta(seconds=x.time_offset), axis=1)"
   ]
  },
  {
   "cell_type": "markdown",
   "id": "b2d54ae3-4b41-4adb-95bf-6d97ef9b4de4",
   "metadata": {},
   "source": [
    "## 1.2 Дубликаты"
   ]
  },
  {
   "cell_type": "markdown",
   "id": "26d68895-5e0d-4834-ab53-3a379a10453e",
   "metadata": {},
   "source": [
    "Проверяем наличие дублирующихся записей"
   ]
  },
  {
   "cell_type": "code",
   "execution_count": 4,
   "id": "52fa75a5-d4b5-4446-9459-96cf2519c87c",
   "metadata": {},
   "outputs": [
    {
     "data": {
      "text/html": [
       "<div>\n",
       "<style scoped>\n",
       "    .dataframe tbody tr th:only-of-type {\n",
       "        vertical-align: middle;\n",
       "    }\n",
       "\n",
       "    .dataframe tbody tr th {\n",
       "        vertical-align: top;\n",
       "    }\n",
       "\n",
       "    .dataframe thead th {\n",
       "        text-align: right;\n",
       "    }\n",
       "</style>\n",
       "<table border=\"1\" class=\"dataframe\">\n",
       "  <thead>\n",
       "    <tr style=\"text-align: right;\">\n",
       "      <th></th>\n",
       "      <th>time_start_local</th>\n",
       "      <th>time_end_local</th>\n",
       "      <th>time_offset</th>\n",
       "      <th>steps</th>\n",
       "    </tr>\n",
       "  </thead>\n",
       "  <tbody>\n",
       "    <tr>\n",
       "      <th>1</th>\n",
       "      <td>2022-03-19 00:21:58</td>\n",
       "      <td>2022-03-19 00:22:00</td>\n",
       "      <td>3600</td>\n",
       "      <td>2</td>\n",
       "    </tr>\n",
       "    <tr>\n",
       "      <th>4</th>\n",
       "      <td>2022-03-19 03:52:55</td>\n",
       "      <td>2022-03-19 03:52:50</td>\n",
       "      <td>3600</td>\n",
       "      <td>6</td>\n",
       "    </tr>\n",
       "    <tr>\n",
       "      <th>14</th>\n",
       "      <td>2022-03-19 11:18:55</td>\n",
       "      <td>2022-03-19 11:28:14</td>\n",
       "      <td>3600</td>\n",
       "      <td>19</td>\n",
       "    </tr>\n",
       "    <tr>\n",
       "      <th>16</th>\n",
       "      <td>2022-03-19 11:28:14</td>\n",
       "      <td>2022-03-19 11:18:55</td>\n",
       "      <td>3600</td>\n",
       "      <td>19</td>\n",
       "    </tr>\n",
       "    <tr>\n",
       "      <th>22</th>\n",
       "      <td>2022-03-19 11:53:41</td>\n",
       "      <td>2022-03-19 11:54:20</td>\n",
       "      <td>3600</td>\n",
       "      <td>6</td>\n",
       "    </tr>\n",
       "    <tr>\n",
       "      <th>...</th>\n",
       "      <td>...</td>\n",
       "      <td>...</td>\n",
       "      <td>...</td>\n",
       "      <td>...</td>\n",
       "    </tr>\n",
       "    <tr>\n",
       "      <th>9819</th>\n",
       "      <td>2022-03-29 19:11:12</td>\n",
       "      <td>2022-03-29 19:11:20</td>\n",
       "      <td>3600</td>\n",
       "      <td>8</td>\n",
       "    </tr>\n",
       "    <tr>\n",
       "      <th>9820</th>\n",
       "      <td>2022-03-29 17:00:30</td>\n",
       "      <td>2022-03-29 17:01:09</td>\n",
       "      <td>3600</td>\n",
       "      <td>74</td>\n",
       "    </tr>\n",
       "    <tr>\n",
       "      <th>9823</th>\n",
       "      <td>2022-03-29 05:16:19</td>\n",
       "      <td>2022-03-29 05:21:13</td>\n",
       "      <td>3600</td>\n",
       "      <td>42</td>\n",
       "    </tr>\n",
       "    <tr>\n",
       "      <th>9824</th>\n",
       "      <td>2022-03-29 17:01:09</td>\n",
       "      <td>2022-03-29 17:09:40</td>\n",
       "      <td>3600</td>\n",
       "      <td>245</td>\n",
       "    </tr>\n",
       "    <tr>\n",
       "      <th>9826</th>\n",
       "      <td>2022-03-29 08:24:10</td>\n",
       "      <td>2022-03-29 08:24:15</td>\n",
       "      <td>3600</td>\n",
       "      <td>14</td>\n",
       "    </tr>\n",
       "  </tbody>\n",
       "</table>\n",
       "<p>2000 rows × 4 columns</p>\n",
       "</div>"
      ],
      "text/plain": [
       "        time_start_local      time_end_local  time_offset  steps\n",
       "1    2022-03-19 00:21:58 2022-03-19 00:22:00         3600      2\n",
       "4    2022-03-19 03:52:55 2022-03-19 03:52:50         3600      6\n",
       "14   2022-03-19 11:18:55 2022-03-19 11:28:14         3600     19\n",
       "16   2022-03-19 11:28:14 2022-03-19 11:18:55         3600     19\n",
       "22   2022-03-19 11:53:41 2022-03-19 11:54:20         3600      6\n",
       "...                  ...                 ...          ...    ...\n",
       "9819 2022-03-29 19:11:12 2022-03-29 19:11:20         3600      8\n",
       "9820 2022-03-29 17:00:30 2022-03-29 17:01:09         3600     74\n",
       "9823 2022-03-29 05:16:19 2022-03-29 05:21:13         3600     42\n",
       "9824 2022-03-29 17:01:09 2022-03-29 17:09:40         3600    245\n",
       "9826 2022-03-29 08:24:10 2022-03-29 08:24:15         3600     14\n",
       "\n",
       "[2000 rows x 4 columns]"
      ]
     },
     "execution_count": 4,
     "metadata": {},
     "output_type": "execute_result"
    }
   ],
   "source": [
    "df[df.duplicated()]"
   ]
  },
  {
   "cell_type": "markdown",
   "id": "ad1166ba-419b-498e-b716-1187293c190d",
   "metadata": {},
   "source": [
    "Дублируются почти 20% записей. Требуется дополнительный анализ их возникновения, возможны варианты:\n",
    "- ошибка импорта/выгрузки из БД,\n",
    "- проблема в работе приложения на конкретной модели телефона/версии ОС,\n",
    "- особенность работы конкретной модели треккера.\n",
    "\n",
    "В последнем случае можно предположить, что треккер передает данные за определенный период частями, т.е. показания дублирующих записей нужно сложить. Предположение так же следует проверить у пользователей аналогичных устройств, однако подозрительно что суммарные показания передаются равными частями. В данном исследовании будем считать данные записи ошибочными, и удалим их из датасета "
   ]
  },
  {
   "cell_type": "code",
   "execution_count": 5,
   "id": "deac407a-655d-47c1-a1c9-502db9cbaef1",
   "metadata": {},
   "outputs": [],
   "source": [
    "df.drop_duplicates(inplace=True)"
   ]
  },
  {
   "cell_type": "markdown",
   "id": "07b9b3fa-d91a-4c3d-8a8f-bc06d223efc6",
   "metadata": {},
   "source": [
    "## 1.3 Интервалы передачи данных"
   ]
  },
  {
   "cell_type": "markdown",
   "id": "53982e6f-134d-4658-8246-0927a8dcf64c",
   "metadata": {},
   "source": [
    "Посмотрим на распределение интервалов передачи данных"
   ]
  },
  {
   "cell_type": "code",
   "execution_count": 6,
   "id": "ce05dee6-6b70-4dd5-89a8-df94c9a1d054",
   "metadata": {},
   "outputs": [],
   "source": [
    "df['time_diff'] = (df.time_end_local - df.time_start_local).apply(lambda x: x.total_seconds())"
   ]
  },
  {
   "cell_type": "code",
   "execution_count": 7,
   "id": "64717d16-0894-4d7d-9de7-6a721d263785",
   "metadata": {},
   "outputs": [
    {
     "data": {
      "text/plain": [
       "<AxesSubplot: xlabel='time_diff', ylabel='Count'>"
      ]
     },
     "execution_count": 7,
     "metadata": {},
     "output_type": "execute_result"
    },
    {
     "data": {
      "image/png": "[encoded data removed]",
      "text/plain": [
       "<Figure size 640x480 with 1 Axes>"
      ]
     },
     "metadata": {},
     "output_type": "display_data"
    }
   ],
   "source": [
    "sns.histplot(data=df, x='time_diff', binwidth=300)"
   ]
  },
  {
   "cell_type": "code",
   "execution_count": 8,
   "id": "c045fb35-57a0-485d-ace0-c01fb5e6c957",
   "metadata": {},
   "outputs": [
    {
     "data": {
      "text/plain": [
       "count    7827.000000\n",
       "mean      124.760189\n",
       "std       437.972972\n",
       "min     -3600.000000\n",
       "25%         2.000000\n",
       "50%         3.000000\n",
       "75%        54.000000\n",
       "max      3600.000000\n",
       "Name: time_diff, dtype: float64"
      ]
     },
     "execution_count": 8,
     "metadata": {},
     "output_type": "execute_result"
    }
   ],
   "source": [
    "df.time_diff.describe()"
   ]
  },
  {
   "cell_type": "code",
   "execution_count": 9,
   "id": "7b5086e4-ead4-4115-b4e6-9ba237e81d3d",
   "metadata": {},
   "outputs": [
    {
     "data": {
      "text/plain": [
       "1800.0    178\n",
       "1790.0    178\n",
       "3600.0     19\n",
       "1699.0      1\n",
       "1780.0      1\n",
       "1793.0      1\n",
       "1020.0      1\n",
       "1796.0      1\n",
       "Name: time_diff, dtype: int64"
      ]
     },
     "execution_count": 9,
     "metadata": {},
     "output_type": "execute_result"
    }
   ],
   "source": [
    "df[df.time_diff>1000].time_diff.value_counts()"
   ]
  },
  {
   "cell_type": "markdown",
   "id": "7d5fcdc1-f9e3-4f91-b75b-00872488be0b",
   "metadata": {},
   "source": [
    "Чуть более 75% интервалов не превышают 1 минуты. Присутствуют получасовые и часовые интервалы, вероятно в треккере/приложении имеется настройка частоты синхронизации, либо применялась аггрегация при выгрузке. Отмечаем наличие отрицательных значений, появление которых так же стоит проверить по указанным в предыдущем разделе предположениям. Перед удалением этих строк попробуем поменять местами начало и конец интервала, и посмотреть нет ли таких же записей в исходном датасете"
   ]
  },
  {
   "cell_type": "code",
   "execution_count": 10,
   "id": "5695c2ef-148b-4ed7-861a-fc17a735cf1c",
   "metadata": {},
   "outputs": [
    {
     "data": {
      "text/plain": [
       "(500, 5)"
      ]
     },
     "execution_count": 10,
     "metadata": {},
     "output_type": "execute_result"
    }
   ],
   "source": [
    "df[df.time_diff < 0].shape # имеем 500 записей с отрицательным интервалом"
   ]
  },
  {
   "cell_type": "code",
   "execution_count": 11,
   "id": "eaf9d6e1-8629-4078-98f5-eb984e7bd70a",
   "metadata": {},
   "outputs": [
    {
     "data": {
      "text/plain": [
       "False    7327\n",
       "True      500\n",
       "dtype: int64"
      ]
     },
     "execution_count": 11,
     "metadata": {},
     "output_type": "execute_result"
    }
   ],
   "source": [
    "df_tmp = df[['time_start_local', 'time_end_local']]\n",
    "df['time_start_local'], df['time_end_local'] = df_tmp.min(axis=1), df_tmp.max(axis=1)\n",
    "df.duplicated(['time_start_local', 'time_end_local', 'time_offset', 'steps']).value_counts() # time_diff не пересчитывался, на него не смотрим"
   ]
  },
  {
   "cell_type": "markdown",
   "id": "0cff0ea5-7a39-44fe-98d1-9834747a3bd1",
   "metadata": {},
   "source": [
    "Видим, что появилось 500 дубликатов, что равно количеству записей с отрицательным интервалом. Удаляем эти записи, и отсортируем датасет по времени начала интервала"
   ]
  },
  {
   "cell_type": "code",
   "execution_count": 12,
   "id": "3c56a294-5b7e-40ca-ac9d-a666a3397268",
   "metadata": {},
   "outputs": [],
   "source": [
    "df = df[df.time_diff >= 0].sort_values(by='time_start_local').reset_index(drop=True)"
   ]
  },
  {
   "cell_type": "markdown",
   "id": "a499905a-d238-4cc3-a397-83d26d78c65b",
   "metadata": {},
   "source": [
    "## 1.4 Часовые пояса"
   ]
  },
  {
   "cell_type": "markdown",
   "id": "5e542205-85a7-469f-aea5-44326f7dbc1b",
   "metadata": {},
   "source": [
    "В датасете присутствует поле сдвига локального времени от UTC. Посмотрим какие уникальные значения оно содержит, корректно ли изменялись часовые пояса."
   ]
  },
  {
   "cell_type": "code",
   "execution_count": 13,
   "id": "906cadc1-744f-4dbf-a10d-dc8c9a85f34f",
   "metadata": {},
   "outputs": [
    {
     "data": {
      "text/plain": [
       "array([3600, 7200], dtype=int64)"
      ]
     },
     "execution_count": 13,
     "metadata": {},
     "output_type": "execute_result"
    }
   ],
   "source": [
    "df.time_offset.unique() # 2 часовых пояса: UTC+1 и UTC+2"
   ]
  },
  {
   "cell_type": "code",
   "execution_count": 14,
   "id": "2cfacd66-41ec-4a87-b3c3-64728e335279",
   "metadata": {},
   "outputs": [],
   "source": [
    "idx_change_tz = df[df.time_offset != df.time_offset.shift(-1)].index[:-1]"
   ]
  },
  {
   "cell_type": "code",
   "execution_count": 15,
   "id": "defec85c-96f9-499b-84f6-1005063502aa",
   "metadata": {},
   "outputs": [
    {
     "data": {
      "text/html": [
       "<div>\n",
       "<style scoped>\n",
       "    .dataframe tbody tr th:only-of-type {\n",
       "        vertical-align: middle;\n",
       "    }\n",
       "\n",
       "    .dataframe tbody tr th {\n",
       "        vertical-align: top;\n",
       "    }\n",
       "\n",
       "    .dataframe thead th {\n",
       "        text-align: right;\n",
       "    }\n",
       "</style>\n",
       "<table border=\"1\" class=\"dataframe\">\n",
       "  <thead>\n",
       "    <tr style=\"text-align: right;\">\n",
       "      <th></th>\n",
       "      <th>time_start_local</th>\n",
       "      <th>time_end_local</th>\n",
       "      <th>time_offset</th>\n",
       "      <th>steps</th>\n",
       "      <th>time_diff</th>\n",
       "    </tr>\n",
       "  </thead>\n",
       "  <tbody>\n",
       "    <tr>\n",
       "      <th>835</th>\n",
       "      <td>2022-03-26 21:36:38</td>\n",
       "      <td>2022-03-26 21:37:09</td>\n",
       "      <td>3600</td>\n",
       "      <td>19</td>\n",
       "      <td>31.0</td>\n",
       "    </tr>\n",
       "    <tr>\n",
       "      <th>836</th>\n",
       "      <td>2022-03-27 06:06:15</td>\n",
       "      <td>2022-03-27 06:06:36</td>\n",
       "      <td>7200</td>\n",
       "      <td>32</td>\n",
       "      <td>21.0</td>\n",
       "    </tr>\n",
       "    <tr>\n",
       "      <th>863</th>\n",
       "      <td>2022-03-27 21:19:27</td>\n",
       "      <td>2022-03-27 21:19:29</td>\n",
       "      <td>7200</td>\n",
       "      <td>2</td>\n",
       "      <td>2.0</td>\n",
       "    </tr>\n",
       "    <tr>\n",
       "      <th>864</th>\n",
       "      <td>2022-03-27 22:35:29</td>\n",
       "      <td>2022-03-27 22:35:32</td>\n",
       "      <td>3600</td>\n",
       "      <td>24</td>\n",
       "      <td>3.0</td>\n",
       "    </tr>\n",
       "    <tr>\n",
       "      <th>1551</th>\n",
       "      <td>2022-03-31 21:24:50</td>\n",
       "      <td>2022-03-31 21:25:26</td>\n",
       "      <td>3600</td>\n",
       "      <td>32</td>\n",
       "      <td>36.0</td>\n",
       "    </tr>\n",
       "    <tr>\n",
       "      <th>1552</th>\n",
       "      <td>2022-04-01 00:13:46</td>\n",
       "      <td>2022-04-01 00:14:04</td>\n",
       "      <td>7200</td>\n",
       "      <td>24</td>\n",
       "      <td>18.0</td>\n",
       "    </tr>\n",
       "  </tbody>\n",
       "</table>\n",
       "</div>"
      ],
      "text/plain": [
       "        time_start_local      time_end_local  time_offset  steps  time_diff\n",
       "835  2022-03-26 21:36:38 2022-03-26 21:37:09         3600     19       31.0\n",
       "836  2022-03-27 06:06:15 2022-03-27 06:06:36         7200     32       21.0\n",
       "863  2022-03-27 21:19:27 2022-03-27 21:19:29         7200      2        2.0\n",
       "864  2022-03-27 22:35:29 2022-03-27 22:35:32         3600     24        3.0\n",
       "1551 2022-03-31 21:24:50 2022-03-31 21:25:26         3600     32       36.0\n",
       "1552 2022-04-01 00:13:46 2022-04-01 00:14:04         7200     24       18.0"
      ]
     },
     "execution_count": 15,
     "metadata": {},
     "output_type": "execute_result"
    }
   ],
   "source": [
    "df.loc[(idx_change_tz).append(idx_change_tz+1).unique()].sort_index() # Поля, между которыми происходила смена часового пояса"
   ]
  },
  {
   "cell_type": "code",
   "execution_count": 16,
   "id": "7c0d0085-2e42-4658-9c08-b7799133dd6a",
   "metadata": {},
   "outputs": [
    {
     "data": {
      "text/plain": [
       "(19076.900439814814, 19083.89224537037)"
      ]
     },
     "execution_count": 16,
     "metadata": {},
     "output_type": "execute_result"
    },
    {
     "data": {
      "image/png": "[encoded data removed]",
      "text/plain": [
       "<Figure size 1800x300 with 1 Axes>"
      ]
     },
     "metadata": {},
     "output_type": "display_data"
    }
   ],
   "source": [
    "fig, ax = plt.subplots(figsize=(18, 3))\n",
    "sns.lineplot(data=df, x='time_start_local', y='time_offset', drawstyle='steps-pre')\n",
    "plt.xlim(df.time_start_local.loc[idx_change_tz[0]] - pd.Timedelta(days=1),\n",
    "         df.time_start_local.loc[idx_change_tz[-1]] + pd.Timedelta(days=1))"
   ]
  },
  {
   "cell_type": "markdown",
   "id": "229adfc3-ff45-4589-889d-e056fb8c994f",
   "metadata": {},
   "source": [
    "Видим 3 корректные смены часового пояса, без каких либо кратковременных скачков. "
   ]
  },
  {
   "cell_type": "markdown",
   "id": "0558de3c-4d1b-401b-b181-c573ee0cfd42",
   "metadata": {},
   "source": [
    "# 2. Алгоритм поиска прогулок"
   ]
  },
  {
   "cell_type": "markdown",
   "id": "3e77cade-3d89-4638-99ec-bdce720b7b62",
   "metadata": {},
   "source": [
    "В текущем контексте прогулка - это примерно постоянная ходьба как минимум в течение 5 минут. Идея алгоритма следующая:\n",
    "1. Определяем максимальную и минимальную скорость прогулочного шага.\n",
    "2. Для каждой записи считается средняя скорость\n",
    "3. Отбираем записи, потенциально подходящие нашим условиям. Таких случая два: \n",
    "    - если длина интервала меньше 5 минут, конец текущего интервала равен началу следуюшего, средняя скорость интервала в нужном диапазоне\n",
    "    - если длина интервала больше 5 минут и меньше максимального рассматриваемого интервала (о нем ниже), средняя скорость интервала в нужном диапазоне\n",
    "4. Группируем найденные интервалы и считаем общее время каждой прогулки.\n",
    "4. Отфильтровываем интервалы продолжительностью менее 5 минут\n"
   ]
  },
  {
   "cell_type": "markdown",
   "id": "15113cd9-6da9-4b8d-88c5-28cbb3de5a17",
   "metadata": {},
   "source": [
    "Средняя длина человеческого шага - 0.71 м. (данный параметр можно персонализировать если человек указал в приложении свой рост). Медленным шагом считают ходьбу со скоростью 2-3 км/ч, спортивная ходьба начинается с ~7 км/ч. Возьмем (2 - 7)км/ч за интервал скорости прогулочного шага.\n",
    "\n",
    "По условию функция должна считать интервалы следующими друг за другом, если конец предыдущего равен началу последующего. Однако, во время прогулки человек может делать кратковременные остановки (светофор, эскалатор и тп.). Поэтому введем параметр PAUSE_THRESHOLD, который будет отвечать за допустимую паузу между двумя записями. По умолчанию равен 30 секундам. \n",
    "\n",
    "В пункте 1.3 определили, что более 75% записей содержат интервалы длинной до 1 минуты. Однако присутствуют и интервалы в 10, 15, 30, 60 минут. Т.к. минимальный интервал для идентификации ходьбы равен 5 минутам, врядли можно что то сказать о наличии такого промежутка в интервале сильно большем. Количество шагов за час может и соответствовать ходьбе, однако человек мог, например, пробежать этот промежуток за 15 минут, а остальное время отдыхать. Необходимо согласие о максимальной длительности одного интервала, для которой допускается усреднение скорости. За это будет отвечать параметр MAX_WALKING_INTERVAl по умолчанию равный 15 минутам. Все записи длиннее этого значения игнорируются. Объявляем перечисленные переменные:\n"
   ]
  },
  {
   "cell_type": "code",
   "execution_count": 17,
   "id": "bd144b4a-6e46-4c7d-9442-3599c17f7d74",
   "metadata": {},
   "outputs": [],
   "source": [
    "AVG_STEP = 0.71 # Средняя длина шага, м.\n",
    "WALKING_SPEED_MIN = 2 # Нижняя граница скорости ходьбы, км/ч\n",
    "WALKING_SPEED_MAX = 7 # Верхняя граница скорости ходьбы, км/ч\n",
    "MAX_WALKING_INTERVAl = 900 # Максимальная длительность одного интервала ходьбы, сек.\n",
    "MIN_WALKING_TIME = 300 # Минимальная длительность интервала ходьбы, сек.\n",
    "PAUSE_THRESHOLD = 30 # Максимальное время между двумя интервалами, сек."
   ]
  },
  {
   "cell_type": "markdown",
   "id": "aaf0edc5-0399-459b-ac08-081c126cfd9f",
   "metadata": {},
   "source": [
    "Удаляем записи, превышающие допустимый порог длины интервала:"
   ]
  },
  {
   "cell_type": "code",
   "execution_count": 18,
   "id": "748d3d7c-c3d9-4288-8459-bb8e85991adf",
   "metadata": {},
   "outputs": [
    {
     "data": {
      "text/plain": [
       "(7327, 5)"
      ]
     },
     "execution_count": 18,
     "metadata": {},
     "output_type": "execute_result"
    }
   ],
   "source": [
    "df.drop(df[df.time_diff > MAX_WALKING_INTERVAl].index, inplace=True)\n",
    "df.shape"
   ]
  },
  {
   "cell_type": "markdown",
   "id": "fa542320-ce0b-4cd7-8146-875b249662e5",
   "metadata": {},
   "source": [
    "Создадим вспомогательные поля:\n",
    "\n",
    "    - is_walking_speed показывает, соответствует ли скорость внутри интервала диапазону ходьбы.\n",
    "    - is_valid_pause показывает, соответствует ли пауза между текущим и предыдщим интервалами максимально допустимой."
   ]
  },
  {
   "cell_type": "code",
   "execution_count": 19,
   "id": "30ccae19-4dea-4219-9b2d-bef7112cd23e",
   "metadata": {},
   "outputs": [],
   "source": [
    "df['is_walking_speed'] = (df.steps*AVG_STEP/df.time_diff*3.6).round(decimals=1).between(WALKING_SPEED_MIN, WALKING_SPEED_MAX)\n",
    "df = df.drop(df[~df.is_walking_speed].index)\n",
    "df['is_valid_pause'] = (df.time_start_local - df.shift().time_end_local).apply(lambda x: x.total_seconds()) <= PAUSE_THRESHOLD\n"
   ]
  },
  {
   "cell_type": "markdown",
   "id": "3f20f0d9-3aed-4d40-9e0f-96307ef4a215",
   "metadata": {},
   "source": [
    "Находим индексы начала и конца каждого непрерывающегося интервала, и в соответствии с ними нумеруем каждый интервал в поле num_interval"
   ]
  },
  {
   "cell_type": "code",
   "execution_count": 20,
   "id": "b80bae7f-4458-454d-84a3-1ee4c5a0970d",
   "metadata": {},
   "outputs": [],
   "source": [
    "interval_idxs_start = df[(~df.is_valid_pause) & (df.is_valid_pause.shift(-1))].index.to_list()\n",
    "interval_idxs_end = df[(df.is_valid_pause) & (df.is_valid_pause.shift(-1) == False)].index.to_list()\n",
    "\n",
    "df['num_interval'] = -1\n",
    "for i, (start, end) in enumerate(zip(interval_idxs_start, interval_idxs_end)):\n",
    "    df.loc[start:end, 'num_interval'] = i"
   ]
  },
  {
   "cell_type": "markdown",
   "id": "9febd1c7-39a5-4c8d-a9d6-208171aea28e",
   "metadata": {},
   "source": [
    "Создаем результирующий датафрейм группировкой по полученным интервалам. Фильтруем записи длительностью менее 5 минут"
   ]
  },
  {
   "cell_type": "code",
   "execution_count": 21,
   "id": "b1a5a6c4-83f5-471d-b993-b96e825c3ef4",
   "metadata": {
    "tags": []
   },
   "outputs": [
    {
     "data": {
      "text/html": [
       "<div>\n",
       "<style scoped>\n",
       "    .dataframe tbody tr th:only-of-type {\n",
       "        vertical-align: middle;\n",
       "    }\n",
       "\n",
       "    .dataframe tbody tr th {\n",
       "        vertical-align: top;\n",
       "    }\n",
       "\n",
       "    .dataframe thead th {\n",
       "        text-align: right;\n",
       "    }\n",
       "</style>\n",
       "<table border=\"1\" class=\"dataframe\">\n",
       "  <thead>\n",
       "    <tr style=\"text-align: right;\">\n",
       "      <th></th>\n",
       "      <th>time_diff</th>\n",
       "      <th>time_start_local</th>\n",
       "      <th>time_end_local</th>\n",
       "      <th>steps</th>\n",
       "      <th>time_offset</th>\n",
       "    </tr>\n",
       "    <tr>\n",
       "      <th>num_interval</th>\n",
       "      <th></th>\n",
       "      <th></th>\n",
       "      <th></th>\n",
       "      <th></th>\n",
       "      <th></th>\n",
       "    </tr>\n",
       "  </thead>\n",
       "  <tbody>\n",
       "    <tr>\n",
       "      <th>9</th>\n",
       "      <td>381.0</td>\n",
       "      <td>2022-03-21 14:00:16</td>\n",
       "      <td>2022-03-21 14:06:37</td>\n",
       "      <td>674</td>\n",
       "      <td>3600</td>\n",
       "    </tr>\n",
       "    <tr>\n",
       "      <th>15</th>\n",
       "      <td>838.0</td>\n",
       "      <td>2022-03-22 13:12:22</td>\n",
       "      <td>2022-03-22 13:26:56</td>\n",
       "      <td>1101</td>\n",
       "      <td>3600</td>\n",
       "    </tr>\n",
       "    <tr>\n",
       "      <th>17</th>\n",
       "      <td>945.0</td>\n",
       "      <td>2022-03-22 13:44:47</td>\n",
       "      <td>2022-03-22 14:00:41</td>\n",
       "      <td>1094</td>\n",
       "      <td>3600</td>\n",
       "    </tr>\n",
       "    <tr>\n",
       "      <th>18</th>\n",
       "      <td>703.0</td>\n",
       "      <td>2022-03-22 14:10:41</td>\n",
       "      <td>2022-03-22 14:22:40</td>\n",
       "      <td>799</td>\n",
       "      <td>3600</td>\n",
       "    </tr>\n",
       "    <tr>\n",
       "      <th>20</th>\n",
       "      <td>729.0</td>\n",
       "      <td>2022-03-22 15:01:42</td>\n",
       "      <td>2022-03-22 15:13:59</td>\n",
       "      <td>830</td>\n",
       "      <td>3600</td>\n",
       "    </tr>\n",
       "  </tbody>\n",
       "</table>\n",
       "</div>"
      ],
      "text/plain": [
       "              time_diff    time_start_local      time_end_local  steps  \\\n",
       "num_interval                                                             \n",
       "9                 381.0 2022-03-21 14:00:16 2022-03-21 14:06:37    674   \n",
       "15                838.0 2022-03-22 13:12:22 2022-03-22 13:26:56   1101   \n",
       "17                945.0 2022-03-22 13:44:47 2022-03-22 14:00:41   1094   \n",
       "18                703.0 2022-03-22 14:10:41 2022-03-22 14:22:40    799   \n",
       "20                729.0 2022-03-22 15:01:42 2022-03-22 15:13:59    830   \n",
       "\n",
       "              time_offset  \n",
       "num_interval               \n",
       "9                    3600  \n",
       "15                   3600  \n",
       "17                   3600  \n",
       "18                   3600  \n",
       "20                   3600  "
      ]
     },
     "execution_count": 21,
     "metadata": {},
     "output_type": "execute_result"
    }
   ],
   "source": [
    "walking_intervals_df = df[df.num_interval >=0].groupby('num_interval').agg({'time_diff': sum, 'time_start_local': min, 'time_end_local': max, 'steps': sum, 'time_offset': min})\n",
    "walking_intervals_df = walking_intervals_df[walking_intervals_df.time_diff > MIN_WALKING_TIME]\n",
    "walking_intervals_df.head()"
   ]
  },
  {
   "cell_type": "code",
   "execution_count": 22,
   "id": "e7199f5c-ff6c-404b-afd5-667ec989055c",
   "metadata": {},
   "outputs": [
    {
     "data": {
      "text/plain": [
       "(95, 5)"
      ]
     },
     "execution_count": 22,
     "metadata": {},
     "output_type": "execute_result"
    }
   ],
   "source": [
    "walking_intervals_df.shape"
   ]
  },
  {
   "cell_type": "markdown",
   "id": "d5202ed7-9e55-47e6-887d-c27fa4ddab44",
   "metadata": {},
   "source": [
    "Получили 95 подходящих интервала. Создадим поле day для выгрузки в json, приведем поля datetime к строковому виду"
   ]
  },
  {
   "cell_type": "code",
   "execution_count": 23,
   "id": "f1c17ac1-5398-440e-abb4-264f6fa4aafc",
   "metadata": {
    "tags": []
   },
   "outputs": [],
   "source": [
    "walking_intervals_df['day'] = walking_intervals_df.time_start_local.dt.strftime('%Y-%m-%d')\n",
    "for col in ['time_start_local', 'time_end_local']:\n",
    "    walking_intervals_df[col] = walking_intervals_df.apply(lambda x: (x[col] + pd.Timedelta(seconds=x.time_offset)), axis=1)\n",
    "    \n",
    "walking_intervals_df.drop(['time_diff', 'time_offset'], axis=1, inplace=True)"
   ]
  },
  {
   "cell_type": "markdown",
   "id": "2aec4cc1-7ec9-4e1d-b324-f2eb95dd18b6",
   "metadata": {},
   "source": [
    "Создаем словарь с результатами работы и выгружаем в json"
   ]
  },
  {
   "cell_type": "code",
   "execution_count": 24,
   "id": "50bc0984-2d37-4dd8-9892-45b6810063b2",
   "metadata": {},
   "outputs": [],
   "source": [
    "result = {day:[] for day in walking_intervals_df.day.unique()}\n",
    "for row in walking_intervals_df.itertuples():\n",
    "    result[row.day].append({'start': row.time_start_local.strftime('%Y-%m-%d %H:%M:%S'),\n",
    "                            'end': row.time_end_local.strftime('%Y-%m-%d %H:%M:%S'),\n",
    "                            'steps': row.steps})\n",
    "\n",
    "with open('walkings.json', 'w') as fout:\n",
    "    json.dump(result, fout)    "
   ]
  },
  {
   "cell_type": "markdown",
   "id": "b1d10e6e-07c6-4f0f-a27d-9d17e4208fd6",
   "metadata": {},
   "source": [
    "Оценим результаты работы алгоритма"
   ]
  },
  {
   "cell_type": "code",
   "execution_count": 25,
   "id": "492325f6-b4c1-4d31-b76a-fe5996d122bb",
   "metadata": {},
   "outputs": [
    {
     "data": {
      "text/plain": [
       "count      95.000000\n",
       "mean     1219.273684\n",
       "std      1186.936217\n",
       "min       288.000000\n",
       "25%       528.000000\n",
       "50%       761.000000\n",
       "75%      1418.500000\n",
       "max      6282.000000\n",
       "Name: steps, dtype: float64"
      ]
     },
     "execution_count": 25,
     "metadata": {},
     "output_type": "execute_result"
    }
   ],
   "source": [
    "walking_intervals_df.steps.describe()"
   ]
  },
  {
   "cell_type": "code",
   "execution_count": 26,
   "id": "b5d278ae-3cb2-4506-b5fc-7f4aa85b2a0a",
   "metadata": {},
   "outputs": [
    {
     "data": {
      "text/plain": [
       "<AxesSubplot: xlabel='steps', ylabel='Count'>"
      ]
     },
     "execution_count": 26,
     "metadata": {},
     "output_type": "execute_result"
    },
    {
     "data": {
      "image/png": "[encoded data removed]",
      "text/plain": [
       "<Figure size 640x480 with 1 Axes>"
      ]
     },
     "metadata": {},
     "output_type": "display_data"
    }
   ],
   "source": [
    "sns.histplot(data=walking_intervals_df, x='steps')"
   ]
  },
  {
   "cell_type": "code",
   "execution_count": 27,
   "id": "3b631359-25c6-4a0f-b390-cd2481232527",
   "metadata": {},
   "outputs": [
    {
     "data": {
      "text/html": [
       "<div>\n",
       "<style scoped>\n",
       "    .dataframe tbody tr th:only-of-type {\n",
       "        vertical-align: middle;\n",
       "    }\n",
       "\n",
       "    .dataframe tbody tr th {\n",
       "        vertical-align: top;\n",
       "    }\n",
       "\n",
       "    .dataframe thead th {\n",
       "        text-align: right;\n",
       "    }\n",
       "</style>\n",
       "<table border=\"1\" class=\"dataframe\">\n",
       "  <thead>\n",
       "    <tr style=\"text-align: right;\">\n",
       "      <th></th>\n",
       "      <th>time_start_local</th>\n",
       "      <th>time_end_local</th>\n",
       "      <th>steps</th>\n",
       "      <th>day</th>\n",
       "    </tr>\n",
       "    <tr>\n",
       "      <th>num_interval</th>\n",
       "      <th></th>\n",
       "      <th></th>\n",
       "      <th></th>\n",
       "      <th></th>\n",
       "    </tr>\n",
       "  </thead>\n",
       "  <tbody>\n",
       "    <tr>\n",
       "      <th>57</th>\n",
       "      <td>2022-03-26 13:35:41</td>\n",
       "      <td>2022-03-26 14:08:50</td>\n",
       "      <td>3001</td>\n",
       "      <td>2022-03-26</td>\n",
       "    </tr>\n",
       "    <tr>\n",
       "      <th>108</th>\n",
       "      <td>2022-03-30 19:50:27</td>\n",
       "      <td>2022-03-30 20:47:25</td>\n",
       "      <td>5085</td>\n",
       "      <td>2022-03-30</td>\n",
       "    </tr>\n",
       "    <tr>\n",
       "      <th>109</th>\n",
       "      <td>2022-03-30 21:27:36</td>\n",
       "      <td>2022-03-30 22:14:55</td>\n",
       "      <td>4285</td>\n",
       "      <td>2022-03-30</td>\n",
       "    </tr>\n",
       "    <tr>\n",
       "      <th>123</th>\n",
       "      <td>2022-03-31 12:42:59</td>\n",
       "      <td>2022-03-31 13:54:10</td>\n",
       "      <td>6282</td>\n",
       "      <td>2022-03-31</td>\n",
       "    </tr>\n",
       "    <tr>\n",
       "      <th>146</th>\n",
       "      <td>2022-04-01 16:38:05</td>\n",
       "      <td>2022-04-01 17:14:48</td>\n",
       "      <td>3079</td>\n",
       "      <td>2022-04-01</td>\n",
       "    </tr>\n",
       "    <tr>\n",
       "      <th>180</th>\n",
       "      <td>2022-04-02 13:00:15</td>\n",
       "      <td>2022-04-02 13:23:29</td>\n",
       "      <td>3078</td>\n",
       "      <td>2022-04-02</td>\n",
       "    </tr>\n",
       "    <tr>\n",
       "      <th>357</th>\n",
       "      <td>2022-04-17 11:09:13</td>\n",
       "      <td>2022-04-17 11:55:18</td>\n",
       "      <td>3972</td>\n",
       "      <td>2022-04-17</td>\n",
       "    </tr>\n",
       "    <tr>\n",
       "      <th>359</th>\n",
       "      <td>2022-04-17 12:10:07</td>\n",
       "      <td>2022-04-17 13:13:09</td>\n",
       "      <td>6207</td>\n",
       "      <td>2022-04-17</td>\n",
       "    </tr>\n",
       "  </tbody>\n",
       "</table>\n",
       "</div>"
      ],
      "text/plain": [
       "                time_start_local      time_end_local  steps         day\n",
       "num_interval                                                           \n",
       "57           2022-03-26 13:35:41 2022-03-26 14:08:50   3001  2022-03-26\n",
       "108          2022-03-30 19:50:27 2022-03-30 20:47:25   5085  2022-03-30\n",
       "109          2022-03-30 21:27:36 2022-03-30 22:14:55   4285  2022-03-30\n",
       "123          2022-03-31 12:42:59 2022-03-31 13:54:10   6282  2022-03-31\n",
       "146          2022-04-01 16:38:05 2022-04-01 17:14:48   3079  2022-04-01\n",
       "180          2022-04-02 13:00:15 2022-04-02 13:23:29   3078  2022-04-02\n",
       "357          2022-04-17 11:09:13 2022-04-17 11:55:18   3972  2022-04-17\n",
       "359          2022-04-17 12:10:07 2022-04-17 13:13:09   6207  2022-04-17"
      ]
     },
     "execution_count": 27,
     "metadata": {},
     "output_type": "execute_result"
    }
   ],
   "source": [
    "walking_intervals_df[walking_intervals_df.steps>3000]"
   ]
  },
  {
   "cell_type": "markdown",
   "id": "b4995a7b-b300-44bc-9e20-60387b4b7b0f",
   "metadata": {},
   "source": [
    "Почти 75% выявленных прогулок не превышают 1500 шагов. При этом алгоритм определяет и намного более длительные прогулки. Чувствителен к параметру PAUSE_THRESHOLD на данном датасете. При увеличении параметра c 0 до 30 секунд, количество найденных прогулок возрастает почти на 30%  (75 -> 95). \n",
    "Слабой стороной алгоритма является неспособность анализировать большие временные интервалы, представленные одной записью. Это сознательное допущение, т.к. даже если добавить логику обработки таких записей, результат вида: \"в период с 13:00 до 14:00 имеется прогулка длительностью не менее 5 минут\" малоинформативен. "
   ]
  },
  {
   "cell_type": "code",
   "execution_count": null,
   "id": "fd4f30fa-f921-4798-b0f5-6abb1d4ef208",
   "metadata": {},
   "outputs": [],
   "source": []
  }
 ],
 "metadata": {
  "kernelspec": {
   "display_name": "Python 3 (ipykernel)",
   "language": "python",
   "name": "python3"
  },
  "language_info": {
   "codemirror_mode": {
    "name": "ipython",
    "version": 3
   },
   "file_extension": ".py",
   "mimetype": "text/x-python",
   "name": "python",
   "nbconvert_exporter": "python",
   "pygments_lexer": "ipython3",
   "version": "3.9.12"
  }
 },
 "nbformat": 4,
 "nbformat_minor": 5
}
